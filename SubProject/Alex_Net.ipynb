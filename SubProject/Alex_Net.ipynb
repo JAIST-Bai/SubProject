{
 "cells": [
  {
   "cell_type": "code",
   "execution_count": 30,
   "id": "13a6f229",
   "metadata": {},
   "outputs": [],
   "source": [
    "import tensorflow as tf\n",
    "import numpy as np\n",
    "import matplotlib.pyplot as plt"
   ]
  },
  {
   "cell_type": "code",
   "execution_count": 31,
   "id": "bcfc26e1",
   "metadata": {
    "scrolled": true
   },
   "outputs": [
    {
     "name": "stdout",
     "output_type": "stream",
     "text": [
      "Found 252 files belonging to 7 classes.\n",
      "Using 202 files for training.\n",
      "Found 252 files belonging to 7 classes.\n",
      "Using 50 files for validation.\n",
      "['BEAUTIFUL', 'HOT', 'LIKE', 'SUBJECT_I', 'SUMMER', 'SWIM', 'WINTER']\n"
     ]
    }
   ],
   "source": [
    "IMAGE_SIZE=224\n",
    "train_ds = tf.keras.utils.image_dataset_from_directory(directory='..\\original_frames',\n",
    "      image_size=(IMAGE_SIZE, IMAGE_SIZE),\n",
    "      seed=37,validation_split=0.2, subset=\"training\") \n",
    "val_ds = tf.keras.utils.image_dataset_from_directory(directory='..\\original_frames',\n",
    "      image_size=(IMAGE_SIZE, IMAGE_SIZE),\n",
    "      seed=37,validation_split=0.2, subset=\"validation\") \n",
    "class_names=train_ds.class_names\n",
    "num_classes = len(class_names)\n",
    "print(class_names)"
   ]
  },
  {
   "cell_type": "code",
   "execution_count": 38,
   "id": "0719463a",
   "metadata": {},
   "outputs": [],
   "source": [
    "model = keras.models.Sequential([\n",
    "    keras.layers.Conv2D(filters=96, kernel_size=(11,11), strides=(4,4), activation='relu', input_shape=(224,224,3)),\n",
    "    keras.layers.BatchNormalization(),\n",
    "    keras.layers.MaxPool2D(pool_size=(3,3), strides=(2,2)),\n",
    "    keras.layers.Conv2D(filters=256, kernel_size=(5,5), strides=(1,1), activation='relu', padding=\"same\"),\n",
    "    keras.layers.BatchNormalization(),\n",
    "    keras.layers.MaxPool2D(pool_size=(3,3), strides=(2,2)),\n",
    "    keras.layers.Conv2D(filters=384, kernel_size=(3,3), strides=(1,1), activation='relu', padding=\"same\"),\n",
    "    keras.layers.BatchNormalization(),\n",
    "    keras.layers.Conv2D(filters=384, kernel_size=(3,3), strides=(1,1), activation='relu', padding=\"same\"),\n",
    "    keras.layers.BatchNormalization(),\n",
    "    keras.layers.Conv2D(filters=256, kernel_size=(3,3), strides=(1,1), activation='relu', padding=\"same\"),\n",
    "    keras.layers.BatchNormalization(),\n",
    "    keras.layers.MaxPool2D(pool_size=(3,3), strides=(2,2)),\n",
    "    keras.layers.Flatten(),\n",
    "    keras.layers.Dense(4096, activation='relu'),\n",
    "    keras.layers.Dropout(0.5),\n",
    "    keras.layers.Dense(4096, activation='relu'),\n",
    "    keras.layers.Dropout(0.5),\n",
    "    keras.layers.Dense(10, activation='softmax')\n",
    "])"
   ]
  },
  {
   "cell_type": "code",
   "execution_count": 39,
   "id": "9e48196d",
   "metadata": {},
   "outputs": [],
   "source": [
    "root_logdir = os.path.join(os.curdir, \"logs\\\\fit\\\\\")\n",
    "def get_run_logdir():\n",
    "    run_id = time.strftime(\"run_%Y_%m_%d-%H_%M_%S\")\n",
    "    return os.path.join(root_logdir, run_id)\n",
    "run_logdir = get_run_logdir()\n",
    "tensorboard_cb = keras.callbacks.TensorBoard(run_logdir)"
   ]
  },
  {
   "cell_type": "code",
   "execution_count": 40,
   "id": "de3cb579",
   "metadata": {},
   "outputs": [
    {
     "name": "stdout",
     "output_type": "stream",
     "text": [
      "Model: \"sequential_1\"\n",
      "_________________________________________________________________\n",
      " Layer (type)                Output Shape              Param #   \n",
      "=================================================================\n",
      " conv2d_5 (Conv2D)           (None, 54, 54, 96)        34944     \n",
      "                                                                 \n",
      " batch_normalization_5 (Batc  (None, 54, 54, 96)       384       \n",
      " hNormalization)                                                 \n",
      "                                                                 \n",
      " max_pooling2d_3 (MaxPooling  (None, 26, 26, 96)       0         \n",
      " 2D)                                                             \n",
      "                                                                 \n",
      " conv2d_6 (Conv2D)           (None, 26, 26, 256)       614656    \n",
      "                                                                 \n",
      " batch_normalization_6 (Batc  (None, 26, 26, 256)      1024      \n",
      " hNormalization)                                                 \n",
      "                                                                 \n",
      " max_pooling2d_4 (MaxPooling  (None, 12, 12, 256)      0         \n",
      " 2D)                                                             \n",
      "                                                                 \n",
      " conv2d_7 (Conv2D)           (None, 12, 12, 384)       885120    \n",
      "                                                                 \n",
      " batch_normalization_7 (Batc  (None, 12, 12, 384)      1536      \n",
      " hNormalization)                                                 \n",
      "                                                                 \n",
      " conv2d_8 (Conv2D)           (None, 12, 12, 384)       1327488   \n",
      "                                                                 \n",
      " batch_normalization_8 (Batc  (None, 12, 12, 384)      1536      \n",
      " hNormalization)                                                 \n",
      "                                                                 \n",
      " conv2d_9 (Conv2D)           (None, 12, 12, 256)       884992    \n",
      "                                                                 \n",
      " batch_normalization_9 (Batc  (None, 12, 12, 256)      1024      \n",
      " hNormalization)                                                 \n",
      "                                                                 \n",
      " max_pooling2d_5 (MaxPooling  (None, 5, 5, 256)        0         \n",
      " 2D)                                                             \n",
      "                                                                 \n",
      " flatten_1 (Flatten)         (None, 6400)              0         \n",
      "                                                                 \n",
      " dense_3 (Dense)             (None, 4096)              26218496  \n",
      "                                                                 \n",
      " dropout_2 (Dropout)         (None, 4096)              0         \n",
      "                                                                 \n",
      " dense_4 (Dense)             (None, 4096)              16781312  \n",
      "                                                                 \n",
      " dropout_3 (Dropout)         (None, 4096)              0         \n",
      "                                                                 \n",
      " dense_5 (Dense)             (None, 10)                40970     \n",
      "                                                                 \n",
      "=================================================================\n",
      "Total params: 46,793,482\n",
      "Trainable params: 46,790,730\n",
      "Non-trainable params: 2,752\n",
      "_________________________________________________________________\n"
     ]
    }
   ],
   "source": [
    "model.compile(loss='sparse_categorical_crossentropy', optimizer=tf.optimizers.SGD(learning_rate=0.001), metrics=['accuracy'])\n",
    "model.summary()"
   ]
  },
  {
   "cell_type": "code",
   "execution_count": 41,
   "id": "cc6e9ae3",
   "metadata": {
    "scrolled": true
   },
   "outputs": [
    {
     "name": "stdout",
     "output_type": "stream",
     "text": [
      "Epoch 1/50\n",
      "7/7 [==============================] - 5s 609ms/step - loss: 2.9217 - accuracy: 0.2673 - val_loss: 7.9639 - val_accuracy: 0.1400\n",
      "Epoch 2/50\n",
      "7/7 [==============================] - 4s 584ms/step - loss: 1.2857 - accuracy: 0.6238 - val_loss: 2.4247 - val_accuracy: 0.1400\n",
      "Epoch 3/50\n",
      "7/7 [==============================] - 4s 619ms/step - loss: 0.6258 - accuracy: 0.7772 - val_loss: 2.0753 - val_accuracy: 0.2800\n",
      "Epoch 4/50\n",
      "7/7 [==============================] - 4s 622ms/step - loss: 0.3126 - accuracy: 0.9010 - val_loss: 1.9004 - val_accuracy: 0.3200\n",
      "Epoch 5/50\n",
      "7/7 [==============================] - 5s 637ms/step - loss: 0.1725 - accuracy: 0.9356 - val_loss: 1.7148 - val_accuracy: 0.3200\n",
      "Epoch 6/50\n",
      "7/7 [==============================] - 5s 681ms/step - loss: 0.1217 - accuracy: 0.9703 - val_loss: 1.5946 - val_accuracy: 0.3400\n",
      "Epoch 7/50\n",
      "7/7 [==============================] - 5s 665ms/step - loss: 0.1185 - accuracy: 0.9653 - val_loss: 1.4092 - val_accuracy: 0.4000\n",
      "Epoch 8/50\n",
      "7/7 [==============================] - 5s 675ms/step - loss: 0.1103 - accuracy: 0.9653 - val_loss: 1.3319 - val_accuracy: 0.4200\n",
      "Epoch 9/50\n",
      "7/7 [==============================] - 6s 858ms/step - loss: 0.1156 - accuracy: 0.9703 - val_loss: 1.1853 - val_accuracy: 0.7600\n",
      "Epoch 10/50\n",
      "7/7 [==============================] - 6s 854ms/step - loss: 0.0761 - accuracy: 0.9802 - val_loss: 1.1605 - val_accuracy: 0.8600\n",
      "Epoch 11/50\n",
      "7/7 [==============================] - 6s 844ms/step - loss: 0.0977 - accuracy: 0.9703 - val_loss: 1.0541 - val_accuracy: 0.8800\n",
      "Epoch 12/50\n",
      "7/7 [==============================] - 6s 866ms/step - loss: 0.0666 - accuracy: 0.9851 - val_loss: 0.9579 - val_accuracy: 0.8800\n",
      "Epoch 13/50\n",
      "7/7 [==============================] - 6s 851ms/step - loss: 0.0558 - accuracy: 0.9901 - val_loss: 0.8336 - val_accuracy: 0.9400\n",
      "Epoch 14/50\n",
      "7/7 [==============================] - 6s 847ms/step - loss: 0.0349 - accuracy: 0.9950 - val_loss: 0.7301 - val_accuracy: 0.9400\n",
      "Epoch 15/50\n",
      "7/7 [==============================] - 7s 935ms/step - loss: 0.0668 - accuracy: 0.9752 - val_loss: 0.6873 - val_accuracy: 0.9800\n",
      "Epoch 16/50\n",
      "7/7 [==============================] - 6s 898ms/step - loss: 0.0308 - accuracy: 0.9950 - val_loss: 0.5692 - val_accuracy: 0.9400\n",
      "Epoch 17/50\n",
      "7/7 [==============================] - 7s 946ms/step - loss: 0.0660 - accuracy: 0.9802 - val_loss: 0.4444 - val_accuracy: 0.9800\n",
      "Epoch 18/50\n",
      "7/7 [==============================] - 7s 939ms/step - loss: 0.0310 - accuracy: 0.9851 - val_loss: 0.4002 - val_accuracy: 1.0000\n",
      "Epoch 19/50\n",
      "7/7 [==============================] - 7s 962ms/step - loss: 0.0144 - accuracy: 1.0000 - val_loss: 0.3390 - val_accuracy: 1.0000\n",
      "Epoch 20/50\n",
      "7/7 [==============================] - 7s 972ms/step - loss: 0.0167 - accuracy: 1.0000 - val_loss: 0.2900 - val_accuracy: 1.0000\n",
      "Epoch 21/50\n",
      "7/7 [==============================] - 7s 991ms/step - loss: 0.0247 - accuracy: 0.9950 - val_loss: 0.2436 - val_accuracy: 1.0000\n",
      "Epoch 22/50\n",
      "7/7 [==============================] - 7s 1s/step - loss: 0.0275 - accuracy: 0.9901 - val_loss: 0.1955 - val_accuracy: 1.0000\n",
      "Epoch 23/50\n",
      "7/7 [==============================] - 7s 1s/step - loss: 0.0197 - accuracy: 0.9950 - val_loss: 0.1572 - val_accuracy: 1.0000\n",
      "Epoch 24/50\n",
      "7/7 [==============================] - 8s 1s/step - loss: 0.0192 - accuracy: 0.9950 - val_loss: 0.1223 - val_accuracy: 1.0000\n",
      "Epoch 25/50\n",
      "7/7 [==============================] - 7s 1s/step - loss: 0.0309 - accuracy: 0.9901 - val_loss: 0.0915 - val_accuracy: 1.0000\n",
      "Epoch 26/50\n",
      "7/7 [==============================] - 8s 1s/step - loss: 0.0117 - accuracy: 1.0000 - val_loss: 0.0748 - val_accuracy: 1.0000\n",
      "Epoch 27/50\n",
      "7/7 [==============================] - 8s 1s/step - loss: 0.0160 - accuracy: 0.9950 - val_loss: 0.0592 - val_accuracy: 1.0000\n",
      "Epoch 28/50\n",
      "7/7 [==============================] - 8s 1s/step - loss: 0.0099 - accuracy: 1.0000 - val_loss: 0.0468 - val_accuracy: 1.0000\n",
      "Epoch 29/50\n",
      "7/7 [==============================] - 8s 1s/step - loss: 0.0172 - accuracy: 0.9950 - val_loss: 0.0344 - val_accuracy: 1.0000\n",
      "Epoch 30/50\n",
      "7/7 [==============================] - 8s 1s/step - loss: 0.0066 - accuracy: 1.0000 - val_loss: 0.0250 - val_accuracy: 1.0000\n",
      "Epoch 31/50\n",
      "7/7 [==============================] - 8s 1s/step - loss: 0.0094 - accuracy: 1.0000 - val_loss: 0.0202 - val_accuracy: 1.0000\n",
      "Epoch 32/50\n",
      "7/7 [==============================] - 9s 1s/step - loss: 0.0050 - accuracy: 1.0000 - val_loss: 0.0154 - val_accuracy: 1.0000\n",
      "Epoch 33/50\n",
      "7/7 [==============================] - 9s 1s/step - loss: 0.0064 - accuracy: 1.0000 - val_loss: 0.0125 - val_accuracy: 1.0000\n",
      "Epoch 34/50\n",
      "7/7 [==============================] - 9s 1s/step - loss: 0.0125 - accuracy: 0.9950 - val_loss: 0.0105 - val_accuracy: 1.0000\n",
      "Epoch 35/50\n",
      "7/7 [==============================] - 9s 1s/step - loss: 0.0083 - accuracy: 1.0000 - val_loss: 0.0089 - val_accuracy: 1.0000\n",
      "Epoch 36/50\n",
      "7/7 [==============================] - 9s 1s/step - loss: 0.0073 - accuracy: 1.0000 - val_loss: 0.0072 - val_accuracy: 1.0000\n",
      "Epoch 37/50\n",
      "7/7 [==============================] - 9s 1s/step - loss: 0.0076 - accuracy: 1.0000 - val_loss: 0.0054 - val_accuracy: 1.0000\n",
      "Epoch 38/50\n",
      "7/7 [==============================] - 9s 1s/step - loss: 0.0055 - accuracy: 1.0000 - val_loss: 0.0042 - val_accuracy: 1.0000\n",
      "Epoch 39/50\n",
      "7/7 [==============================] - 9s 1s/step - loss: 0.0106 - accuracy: 1.0000 - val_loss: 0.0032 - val_accuracy: 1.0000\n",
      "Epoch 40/50\n",
      "7/7 [==============================] - 9s 1s/step - loss: 0.0075 - accuracy: 1.0000 - val_loss: 0.0027 - val_accuracy: 1.0000\n",
      "Epoch 41/50\n",
      "7/7 [==============================] - 9s 1s/step - loss: 0.0033 - accuracy: 1.0000 - val_loss: 0.0021 - val_accuracy: 1.0000\n",
      "Epoch 42/50\n",
      "7/7 [==============================] - 9s 1s/step - loss: 0.0068 - accuracy: 1.0000 - val_loss: 0.0017 - val_accuracy: 1.0000\n",
      "Epoch 43/50\n",
      "7/7 [==============================] - 9s 1s/step - loss: 0.0085 - accuracy: 0.9950 - val_loss: 0.0014 - val_accuracy: 1.0000\n",
      "Epoch 44/50\n",
      "7/7 [==============================] - 9s 1s/step - loss: 0.0048 - accuracy: 1.0000 - val_loss: 0.0011 - val_accuracy: 1.0000\n",
      "Epoch 45/50\n",
      "7/7 [==============================] - 9s 1s/step - loss: 0.0033 - accuracy: 1.0000 - val_loss: 8.5483e-04 - val_accuracy: 1.0000\n",
      "Epoch 46/50\n",
      "7/7 [==============================] - 9s 1s/step - loss: 0.0092 - accuracy: 1.0000 - val_loss: 7.6391e-04 - val_accuracy: 1.0000\n",
      "Epoch 47/50\n",
      "7/7 [==============================] - 9s 1s/step - loss: 0.0086 - accuracy: 0.9950 - val_loss: 7.4428e-04 - val_accuracy: 1.0000\n",
      "Epoch 48/50\n",
      "7/7 [==============================] - 9s 1s/step - loss: 0.0059 - accuracy: 1.0000 - val_loss: 5.2589e-04 - val_accuracy: 1.0000\n",
      "Epoch 49/50\n",
      "7/7 [==============================] - 8s 1s/step - loss: 0.0035 - accuracy: 1.0000 - val_loss: 4.3327e-04 - val_accuracy: 1.0000\n",
      "Epoch 50/50\n",
      "7/7 [==============================] - 8s 1s/step - loss: 0.0020 - accuracy: 1.0000 - val_loss: 3.6464e-04 - val_accuracy: 1.0000\n"
     ]
    },
    {
     "data": {
      "text/plain": [
       "<keras.callbacks.History at 0x1bd08117f70>"
      ]
     },
     "execution_count": 41,
     "metadata": {},
     "output_type": "execute_result"
    }
   ],
   "source": [
    "model.fit(train_ds,\n",
    "          epochs=50,\n",
    "          validation_data=val_ds,\n",
    "          validation_freq=1,\n",
    "          callbacks=[tensorboard_cb])"
   ]
  },
  {
   "cell_type": "code",
   "execution_count": 44,
   "id": "f994b252",
   "metadata": {
    "scrolled": true
   },
   "outputs": [
    {
     "data": {
      "text/html": [
       "\n",
       "      <iframe id=\"tensorboard-frame-ee2f16c136ad8873\" width=\"100%\" height=\"800\" frameborder=\"0\">\n",
       "      </iframe>\n",
       "      <script>\n",
       "        (function() {\n",
       "          const frame = document.getElementById(\"tensorboard-frame-ee2f16c136ad8873\");\n",
       "          const url = new URL(\"/\", window.location);\n",
       "          const port = 6006;\n",
       "          if (port) {\n",
       "            url.port = port;\n",
       "          }\n",
       "          frame.src = url;\n",
       "        })();\n",
       "      </script>\n",
       "    "
      ],
      "text/plain": [
       "<IPython.core.display.HTML object>"
      ]
     },
     "metadata": {},
     "output_type": "display_data"
    }
   ],
   "source": [
    "# Load the TensorBoard notebook extension\n",
    "%load_ext tensorboard\n",
    "%tensorboard --logdir logs"
   ]
  },
  {
   "cell_type": "code",
   "execution_count": null,
   "id": "28f72651",
   "metadata": {},
   "outputs": [],
   "source": []
  }
 ],
 "metadata": {
  "kernelspec": {
   "display_name": "Python 3 (ipykernel)",
   "language": "python",
   "name": "python3"
  },
  "language_info": {
   "codemirror_mode": {
    "name": "ipython",
    "version": 3
   },
   "file_extension": ".py",
   "mimetype": "text/x-python",
   "name": "python",
   "nbconvert_exporter": "python",
   "pygments_lexer": "ipython3",
   "version": "3.9.12"
  }
 },
 "nbformat": 4,
 "nbformat_minor": 5
}
